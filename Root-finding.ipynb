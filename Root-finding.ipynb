{
 "cells": [
  {
   "cell_type": "markdown",
   "metadata": {},
   "source": [
    "# An application of scalar root-finding using root-finding routines"
   ]
  },
  {
   "cell_type": "markdown",
   "metadata": {},
   "source": [
    "Consider a mechanism comprising four planar rigid rods of lengths $a_1$, $a_2$, $a_3$, and $a_4$. Assume the rod of length $a_1$ is anchored on the horizontal axis with the ends anchored at $(0,0)$ and $(a_1,0)$. Assume further that the remaining rods are connected as illustrated here:\n",
    "\n",
    "<img src=\"files/img/rods-01.svg\" alt=\"4-link mechanical linkage\" />&nbsp;<img src=\"files/img/rods-02.svg\" alt=\"4-link mechanical linkage\" />\n",
    "\n",
    "The *Freudenstein equation* \n",
    "\\begin{equation} \\frac{a_{1}}{a_{2}} \\cos(\\beta) - \\frac{a_{1}}{a_{4}} \\cos(\\alpha) - \\cos(\\beta-\\alpha) =\n",
    "      - \\frac{a_{1}^{2} + a_{2}^{2} - a_{3}^{2} + a_{4}^{2} }{2a_{2}a_{4}} \\end{equation}\n",
    "describes the kinematics of these four rigid planar rods. If one of the angles, say, $\\beta$ and all the rod lengths $a_{k}$ ($k=1,\\ldots,4$) are prescribed, determining the geometry of the 4-link frame reduces to solving the equation above for the remaining unknown parameter $\\alpha$.\n",
    "\n",
    "To implement this in Octave, let us first create a function ``f_freudenstein`` that can be used in conjunction with a zero-finding routine. Notice the equation is rearranged so that the right-hand side is zero (as would be required for a zero-finding routine)."
   ]
  },
  {
   "cell_type": "code",
   "execution_count": null,
   "metadata": {
    "collapsed": true
   },
   "outputs": [],
   "source": [
    "function y = f_freudenstein(alpha, beta, A1, A2, A3, A4)\n",
    "   y = (A1/A2)*cos(beta) - (A1/A4) * cos(alpha) - cos(beta-alpha) + (A1**2+A2**2-A3**2+A4**2)/(2*A2*A4);\n",
    "end"
   ]
  },
  {
   "cell_type": "code",
   "execution_count": null,
   "metadata": {},
   "outputs": [],
   "source": [
    "f_freudenstein(0.1, 0.25, 11, 13, 8, 10)"
   ]
  },
  {
   "cell_type": "markdown",
   "metadata": {},
   "source": [
    "To find numerical solutions of the Freudenstein equation, we will use the Octave/Matlab solver `fzero`. Since ``fzero`` expects a single-variable function as an input, one strategy to use ``f_freudenstein`` to find the angle ``alpha`` is to define a temporary, single-variable function using fixed constants ``beta``, ``a1``, ``a2``, ``a3``, and ``a4`` as inputs (this is called *currying* in functional programming)."
   ]
  },
  {
   "cell_type": "code",
   "execution_count": null,
   "metadata": {
    "collapsed": true
   },
   "outputs": [],
   "source": [
    "a1 = 10; a2 = 13; a3 = 8; a4 = 10;  % Fixing the lengths of the rods\n",
    "beta = 0.1;  % Fixing one of the angles"
   ]
  },
  {
   "cell_type": "code",
   "execution_count": null,
   "metadata": {},
   "outputs": [],
   "source": [
    "f = @(x) f_freudenstein(x, beta, a1, a2, a3, a4);  % f is a function of a *single* variable x\n",
    "f(0.5)"
   ]
  },
  {
   "cell_type": "markdown",
   "metadata": {},
   "source": [
    "With the single-variable function ``f`` thus defined, we can invoke the function ``fzero`` to find the corresponding solution $\\alpha$. Notice that we have to provide an initial iterate ``alpha_init`` as well as the function ``f`` as input to ``fzero``; the other input arguments assume default values (we can in principle choose values for these also)."
   ]
  },
  {
   "cell_type": "code",
   "execution_count": null,
   "metadata": {},
   "outputs": [],
   "source": [
    "alpha_init = 1.1;\n",
    "alpha_sol = fzero(f,alpha_init);\n",
    "alpha_sol"
   ]
  },
  {
   "cell_type": "markdown",
   "metadata": {},
   "source": [
    "It is often the case that one wants to solve the same equation with different parameters (i.e., different rod lengths or different angle $\\beta$ in this case). Let's *embed* the workflow preceding into a *function*."
   ]
  },
  {
   "cell_type": "code",
   "execution_count": null,
   "metadata": {
    "collapsed": true
   },
   "outputs": [],
   "source": [
    "function alpha_sol = solve_freudenstein(alpha_init, beta, A1, A2, A3, A4)\n",
    "    f = @(x) f_freudenstein(x, beta, A1, A2, A3, A4);\n",
    "    alpha_sol = fzero(f, alpha_init);\n",
    "end"
   ]
  },
  {
   "cell_type": "markdown",
   "metadata": {},
   "source": [
    "Let's just test that the function ``solve_freudenstein`` works as intended."
   ]
  },
  {
   "cell_type": "code",
   "execution_count": null,
   "metadata": {},
   "outputs": [],
   "source": [
    "a1 = 10; a2 = 13; a3 = 8; a4 = 10;  % Fixing the lengths of the rods\n",
    "beta = 0.1;  % Fixing one of the angles\n",
    "alpha_init = pi;\n",
    "solve_freudenstein(alpha_init, beta, a1, a2, a3, a4)"
   ]
  },
  {
   "cell_type": "markdown",
   "metadata": {},
   "source": [
    "It worked! So now, let's create an *array* of $\\beta$ values. For each of those values of $\\beta$, we solve for *two* corresponding $\\alpha$ values; let's store those in arrays ``alpha_lo`` and ``alpha_hi``."
   ]
  },
  {
   "cell_type": "code",
   "execution_count": null,
   "metadata": {
    "collapsed": true
   },
   "outputs": [],
   "source": [
    "N_beta = 50; % Increase for better resolution\n",
    "beta_vals = pi * linspace(0, 0.6, N_beta);\n",
    "alpha_lo = zeros(size(beta_vals));\n",
    "alpha_hi = alpha_lo;"
   ]
  },
  {
   "cell_type": "markdown",
   "metadata": {},
   "source": [
    "We need initial values of $\\alpha$ to seed an iteration."
   ]
  },
  {
   "cell_type": "code",
   "execution_count": null,
   "metadata": {},
   "outputs": [],
   "source": [
    "a1 = 10; a2 = 13; a3 = 8; a4 = 10; % Fix rod lengths\n",
    "% Start by determining the two values of alpha for the first value of beta\n",
    "beta = beta_vals(1);\n",
    "alpha_init = -0.2;\n",
    "alpha_lo(1) = solve_freudenstein(alpha_init, beta, a1, a2, a3, a4);\n",
    "alpha_init = [0, 2*pi/3];\n",
    "alpha_hi(1) = solve_freudenstein(alpha_init, beta, a1, a2, a3, a4);"
   ]
  },
  {
   "cell_type": "markdown",
   "metadata": {},
   "source": [
    "Make a loop now that solves for both values of $\\alpha$ for each value of $\\beta$ and stores the results."
   ]
  },
  {
   "cell_type": "code",
   "execution_count": null,
   "metadata": {
    "collapsed": true
   },
   "outputs": [],
   "source": [
    "for k = 2:N_beta \n",
    "    beta = beta_vals(k);\n",
    "    alpha_init = alpha_lo(k-1); % Use the last point as an initial iterate\n",
    "    alpha_lo(k) = solve_freudenstein(alpha_init, beta, a1, a2, a3, a4);\n",
    "    alpha_init = alpha_hi(k-1); % Use the last point as an initial iterate\n",
    "    alpha_hi(k) = solve_freudenstein(alpha_init, beta, a1, a2, a3, a4);\n",
    "end"
   ]
  },
  {
   "cell_type": "markdown",
   "metadata": {},
   "source": [
    "Finally, make a plot to visualize the results."
   ]
  },
  {
   "cell_type": "code",
   "execution_count": null,
   "metadata": {},
   "outputs": [],
   "source": [
    "plot(beta_vals, alpha_lo, 'r')\n",
    "hold on\n",
    "plot(beta_vals, alpha_hi, 'b')\n",
    "xlabel('beta')\n",
    "ylabel('alpha')"
   ]
  }
 ],
 "metadata": {
  "kernelspec": {
   "display_name": "Octave",
   "language": "octave",
   "name": "octave"
  },
  "language_info": {
   "file_extension": ".m",
   "help_links": [
    {
     "text": "GNU Octave",
     "url": "https://www.gnu.org/software/octave/support.html"
    },
    {
     "text": "Octave Kernel",
     "url": "https://github.com/Calysto/octave_kernel"
    },
    {
     "text": "MetaKernel Magics",
     "url": "https://github.com/calysto/metakernel/blob/master/metakernel/magics/README.md"
    }
   ],
   "mimetype": "text/x-octave",
   "name": "octave",
   "version": "4.2.0"
  }
 },
 "nbformat": 4,
 "nbformat_minor": 2
}
